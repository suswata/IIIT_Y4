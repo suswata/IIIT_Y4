{
  "nbformat": 4,
  "nbformat_minor": 0,
  "metadata": {
    "colab": {
      "provenance": []
    },
    "kernelspec": {
      "name": "python3",
      "display_name": "Python 3"
    },
    "language_info": {
      "name": "python"
    }
  },
  "cells": [
    {
      "cell_type": "markdown",
      "source": [
        "####**PROBLEM SET - IV DATA PREPROCESSING**\n",
        "####**DONE BY CS20B1057 A S V DHANUSH**"
      ],
      "metadata": {
        "id": "XncSicj0b2d5"
      }
    },
    {
      "cell_type": "code",
      "execution_count": 1,
      "metadata": {
        "id": "WYvd4K0FbwDo"
      },
      "outputs": [],
      "source": [
        "#IMPORTING LIBRARIES\n",
        "import pandas as pd\n",
        "import numpy as np\n",
        "import seaborn as sns\n",
        "import matplotlib.pyplot as plt\n"
      ]
    },
    {
      "cell_type": "markdown",
      "source": [
        "Q1. Suppose that the data for analysis includes the attribute age. The age values for the data\n",
        "tuples are (in increasing order)\n",
        "\n",
        "13, 15, 16, 16, 19, 20, 20, 21, 22, 22, 25, 25, 25, 25, 30, 33,\n",
        "33, 35, 35, 35, 35, 36, 40, 45, 46, 52, 70.\n",
        "\n",
        "(a) Use min-max normalization to transform the value 25 for age onto the range [0.0;1.0].\n",
        "\n",
        "(b) Use z-score normalization to transform the value 25 for age, where the standard deviation of age is 12.94 years.\n",
        "\n",
        "(c) Use normalization by decimal scaling to transform the value 25 for age such that transformed value is <1"
      ],
      "metadata": {
        "id": "yotHoo71cYbZ"
      }
    },
    {
      "cell_type": "code",
      "source": [
        "data = [13, 15, 16, 16, 19, 20, 20, 21, 22, 22, 25, 25, 25, 25, 30, 33, 33, 35, 35, 35, 35, 36, 40, 45, 46, 52, 70]\n",
        "\n",
        "data_1 = [[13], [15], [16], [16], [19], [20], [20], [21], [22], [22], [25], [25], [25], [25], [30], [33], [33], [35], [35], [35], [35], [36], [40], [45], [46], [52], [70]]\n",
        "#taking the list in numpy array\n",
        "age = np.array(data)\n",
        "age_1 = np.array(data_1)\n"
      ],
      "metadata": {
        "id": "zBgNngy1b2Ck"
      },
      "execution_count": 2,
      "outputs": []
    },
    {
      "cell_type": "markdown",
      "source": [
        "\n",
        "**(a) Use min-max normalization to transform the value 25 for age onto the range [0.0;1.0].**\n",
        "Without built in"
      ],
      "metadata": {
        "id": "HsT4WRSeeI6O"
      }
    },
    {
      "cell_type": "code",
      "source": [
        "X_min = np.min(age)\n",
        "X_max = np.max(age)\n",
        "\n",
        "# Normalize the feature\n",
        "age_norm = (age - X_min) / (X_max - X_min)\n",
        "\n",
        "print(age_norm)\n"
      ],
      "metadata": {
        "colab": {
          "base_uri": "https://localhost:8080/"
        },
        "id": "E2yXh_Dcc7Ji",
        "outputId": "98cb9eda-ca5f-4a4f-fd8d-3119e8546848"
      },
      "execution_count": 3,
      "outputs": [
        {
          "output_type": "stream",
          "name": "stdout",
          "text": [
            "[0.         0.03508772 0.05263158 0.05263158 0.10526316 0.12280702\n",
            " 0.12280702 0.14035088 0.15789474 0.15789474 0.21052632 0.21052632\n",
            " 0.21052632 0.21052632 0.29824561 0.35087719 0.35087719 0.38596491\n",
            " 0.38596491 0.38596491 0.38596491 0.40350877 0.47368421 0.56140351\n",
            " 0.57894737 0.68421053 1.        ]\n"
          ]
        }
      ]
    },
    {
      "cell_type": "markdown",
      "source": [
        "Using built in"
      ],
      "metadata": {
        "id": "kXZOkeK_eaW2"
      }
    },
    {
      "cell_type": "code",
      "source": [
        "from sklearn.preprocessing import MinMaxScaler\n",
        "scaler = MinMaxScaler()\n",
        "\n",
        "feature_normalized = scaler.fit_transform(age_1)\n",
        "\n",
        "# The result is a numpy array containing the normalized values\n",
        "print(feature_normalized)"
      ],
      "metadata": {
        "colab": {
          "base_uri": "https://localhost:8080/"
        },
        "id": "ypGT1EUQeYMS",
        "outputId": "53781378-8267-4934-c42f-dc44a113d649"
      },
      "execution_count": 4,
      "outputs": [
        {
          "output_type": "stream",
          "name": "stdout",
          "text": [
            "[[0.        ]\n",
            " [0.03508772]\n",
            " [0.05263158]\n",
            " [0.05263158]\n",
            " [0.10526316]\n",
            " [0.12280702]\n",
            " [0.12280702]\n",
            " [0.14035088]\n",
            " [0.15789474]\n",
            " [0.15789474]\n",
            " [0.21052632]\n",
            " [0.21052632]\n",
            " [0.21052632]\n",
            " [0.21052632]\n",
            " [0.29824561]\n",
            " [0.35087719]\n",
            " [0.35087719]\n",
            " [0.38596491]\n",
            " [0.38596491]\n",
            " [0.38596491]\n",
            " [0.38596491]\n",
            " [0.40350877]\n",
            " [0.47368421]\n",
            " [0.56140351]\n",
            " [0.57894737]\n",
            " [0.68421053]\n",
            " [1.        ]]\n"
          ]
        }
      ]
    },
    {
      "cell_type": "markdown",
      "source": [
        "**(b) Use z-score normalization to transform the value 25 for age, where the standard deviation of age is 12.94 years.**"
      ],
      "metadata": {
        "id": "jk9P2OAJegVp"
      }
    },
    {
      "cell_type": "code",
      "source": [
        "import scipy.stats as stats\n",
        "X = 25\n",
        "sigma = 12.94\n",
        "mu = np.mean(age)\n",
        "\n",
        "# Calculate the z-score\n",
        "z_score = (X - mu) / sigma\n",
        "\n",
        "print(\"Z-Score:\", z_score)\n"
      ],
      "metadata": {
        "colab": {
          "base_uri": "https://localhost:8080/"
        },
        "id": "Yqf_pJ3sek5D",
        "outputId": "56ae4962-4fe3-45ff-d640-4ea2ff949b09"
      },
      "execution_count": 5,
      "outputs": [
        {
          "output_type": "stream",
          "name": "stdout",
          "text": [
            "Z-Score: -0.38353655046081625\n"
          ]
        }
      ]
    },
    {
      "cell_type": "code",
      "source": [
        "data.index(25)"
      ],
      "metadata": {
        "colab": {
          "base_uri": "https://localhost:8080/"
        },
        "id": "TPdRfA-jiq3F",
        "outputId": "a1320e07-cc27-488b-a2a2-bdf71ff61efa"
      },
      "execution_count": 6,
      "outputs": [
        {
          "output_type": "execute_result",
          "data": {
            "text/plain": [
              "10"
            ]
          },
          "metadata": {},
          "execution_count": 6
        }
      ]
    },
    {
      "cell_type": "code",
      "source": [
        "#Built in\n",
        "data = [13, 15, 16, 16, 19, 20, 20, 21, 22, 22, 25, 25, 25, 25, 30, 33, 33, 35, 35, 35, 35, 36, 40, 45, 46, 52, 70]\n",
        "z_score = stats.zscore(data)[data.index(25)] #10th index\n",
        "\n",
        "print(\"Z-Score:\", z_score)"
      ],
      "metadata": {
        "colab": {
          "base_uri": "https://localhost:8080/"
        },
        "id": "_6BV100sf1ZZ",
        "outputId": "eab6d172-2ff3-4e19-9364-93dc47863deb"
      },
      "execution_count": 7,
      "outputs": [
        {
          "output_type": "stream",
          "name": "stdout",
          "text": [
            "Z-Score: -0.39077851963529775\n"
          ]
        }
      ]
    },
    {
      "cell_type": "markdown",
      "source": [
        "**(c) Use normalization by decimal scaling to transform the value 25 for age such that transformed value is <1**"
      ],
      "metadata": {
        "id": "v0Tp0RO7jeLR"
      }
    },
    {
      "cell_type": "code",
      "source": [
        "#decimal scaling\n",
        "data_X = 25\n",
        "\n",
        "n = 2\n",
        "\n",
        "X_scaled = data_X / (10 ** n)\n",
        "\n",
        "print(\"Scaled Value:\", X_scaled)"
      ],
      "metadata": {
        "colab": {
          "base_uri": "https://localhost:8080/"
        },
        "id": "7h3FSiUnivea",
        "outputId": "d852c518-672b-45b0-da63-8e129511fa18"
      },
      "execution_count": 8,
      "outputs": [
        {
          "output_type": "stream",
          "name": "stdout",
          "text": [
            "Scaled Value: 0.25\n"
          ]
        }
      ]
    },
    {
      "cell_type": "markdown",
      "source": [
        "Q2. Use the given dataset and perform the operations listed below.\n",
        "Dataset Description\n",
        "\n",
        "\n",
        "It is a well-known fact that Millenials LOVE Avocado Toast. It's also a well known fact that all Millenials live in\n",
        "their parents basements.\n",
        "\n",
        "\n",
        "Clearly, they aren't buying home because they are buying too much Avocado Toast!\n",
        "But maybe there's hope... if a Millenial could find a city with cheap avocados, they could live out the Millenial\n",
        "American Dream. Help them to filter out the clutter using some pre-processing techniques.\n",
        "\n",
        "\n",
        "Some relevant columns in the dataset:\n",
        "\n",
        "\n",
        "● Date - The date of the observation\n",
        "\n",
        "● Average Price - the average price of a single avocado\n",
        "\n",
        "● type - conventional or organic\n",
        "\n",
        "● year - the year\n",
        "\n",
        "● Region - the city or region of the observation\n",
        "\n",
        "● Total Volume - Total number of avocados sold\n",
        "\n",
        "● 4046 - Total number of avocados with PLU* 4046 sold\n",
        "\n",
        "● 4225 - Total number of avocados with PLU* 4225 sold\n",
        "\n",
        "● 4770 - Total number of avocados with PLU* 4770 sold\n",
        "\n",
        "(Product Lookup codes (PLU’s)) *\n",
        "\n",
        "a. Sort the attribute “Total Volume” in the dataset given and distribute the data into equal sized/frequency bins of 50\n",
        "& 250. Smooth the sorted data by\n",
        "\n",
        "(i)bin-means\n",
        "\n",
        "(ii) bin-medians\n",
        "\n",
        "(iii) bin-boundaries (smooth using bin boundaries after trimming the data by 2%).\n",
        "\n",
        "b. The dataset represents weekly retail scan data for National retail volume (units) and price.\n",
        "\n",
        "Retail scan data comes\n",
        "directly from retailers’ cash registers based on actual retail sales of Hass avocados. However, the company is interested in the monthly (total per month) and annual sales (total per year), rather than the total per week. So,\n",
        "reduce the data accordingly.\n",
        "\n",
        "\n",
        "c. Summarize the number of missing values for each attribute\n",
        "\n",
        "d. Populate data for the missing values of the attribute= “Average Price” by averaging their values that fall under the\n",
        "same region.\n",
        "\n",
        "e. Discretize the attribute=“Date” using concept hierarchy into {Old, New, Recent} {2015,2016 : Old, 2017: New,2018: Recent} and plot in q-q plots"
      ],
      "metadata": {
        "id": "tuTDNbgtlSns"
      }
    },
    {
      "cell_type": "markdown",
      "source": [
        "**a. Sort the attribute “Total Volume” in the dataset given and distribute the data into equal sized/frequency bins of 50 & 250.**\n",
        "\n",
        "**Smooth the sorted data by**\n",
        "\n",
        "**(i)bin-means**\n",
        "\n",
        "**(ii) bin-medians**\n",
        "\n",
        "**(iii) bin-boundaries (smooth using bin boundaries after trimming the data by 2%).**"
      ],
      "metadata": {
        "id": "UGunHlCBoJlF"
      }
    },
    {
      "cell_type": "code",
      "source": [
        "# Load your dataset (replace 'your_dataset.csv' with the actual file path)\n",
        "avocado = pd.read_csv('avocado.csv')\n",
        "\n",
        "avocado['Total Volume'].head()\n",
        "\n",
        "# Sorting the Total Volume feature\n",
        "avocado_sorted = avocado['Total Volume'].sort_values()\n",
        "\n",
        "# Creating equal sized frequency bins of 50 and 250\n",
        "\n",
        "bin_50 = pd.cut(avocado_sorted, bins=50, labels=False)\n",
        "\n",
        "bin_250 = pd.cut(avocado_sorted, bins=250, labels=False)"
      ],
      "metadata": {
        "id": "BudIXx71pE8q"
      },
      "execution_count": 9,
      "outputs": []
    },
    {
      "cell_type": "code",
      "source": [
        "avocado.dtypes"
      ],
      "metadata": {
        "colab": {
          "base_uri": "https://localhost:8080/"
        },
        "id": "gDcKlBla6Y6H",
        "outputId": "9bb5984d-7f28-416c-ae5a-ddd339613602"
      },
      "execution_count": 10,
      "outputs": [
        {
          "output_type": "execute_result",
          "data": {
            "text/plain": [
              "Date             object\n",
              "AveragePrice     object\n",
              "Total Volume    float64\n",
              "4046            float64\n",
              "4225            float64\n",
              "4770            float64\n",
              "Total Bags      float64\n",
              "Small Bags      float64\n",
              "Large Bags      float64\n",
              "XLarge Bags     float64\n",
              "type             object\n",
              "year              int64\n",
              "region           object\n",
              "dtype: object"
            ]
          },
          "metadata": {},
          "execution_count": 10
        }
      ]
    },
    {
      "cell_type": "markdown",
      "source": [
        "**(i)bin-means**"
      ],
      "metadata": {
        "id": "e0QZzFImpaeB"
      }
    },
    {
      "cell_type": "code",
      "source": [
        "bin_means50 = avocado_sorted.groupby(bin_50).transform('mean')\n",
        "bin_means250 = avocado_sorted.groupby(bin_250).transform('mean')\n",
        "print(\"Smoothed Data (Bin-Means) Bins=50:\")\n",
        "print(bin_means50.head())\n",
        "print(\"Smoothed Data (Bin-Means) Bins=250:\")\n",
        "print(bin_means250.head())"
      ],
      "metadata": {
        "colab": {
          "base_uri": "https://localhost:8080/"
        },
        "id": "5F6hm43xpf9K",
        "outputId": "4b8520f6-1c6a-4968-fadd-77083909d0c8"
      },
      "execution_count": 11,
      "outputs": [
        {
          "output_type": "stream",
          "name": "stdout",
          "text": [
            "Smoothed Data (Bin-Means) Bins=50:\n",
            "10381    194745.308114\n",
            "9437     194745.308114\n",
            "13189    194745.308114\n",
            "11698    194745.308114\n",
            "13193    194745.308114\n",
            "Name: Total Volume, dtype: float64\n",
            "Smoothed Data (Bin-Means) Bins=250:\n",
            "10381    57862.097247\n",
            "9437     57862.097247\n",
            "13189    57862.097247\n",
            "11698    57862.097247\n",
            "13193    57862.097247\n",
            "Name: Total Volume, dtype: float64\n"
          ]
        }
      ]
    },
    {
      "cell_type": "markdown",
      "source": [
        "**(ii)bin-medians**"
      ],
      "metadata": {
        "id": "WDpIwCfhp6zb"
      }
    },
    {
      "cell_type": "code",
      "source": [
        "bin_medians50 = avocado_sorted.groupby(bin_50).transform('median')\n",
        "bin_medians250 = avocado_sorted.groupby(bin_250).transform('median')\n",
        "print(\"Smoothed Data (Bin-Medians) Bins=50:\")\n",
        "print(bin_medians50.head())\n",
        "print(\"Smoothed Data (Bin-Medians) Bins=250:\")\n",
        "print(bin_medians250.head())"
      ],
      "metadata": {
        "colab": {
          "base_uri": "https://localhost:8080/"
        },
        "id": "yMum3eFCpnBH",
        "outputId": "00d4242b-22bb-4069-8ceb-d4828a4455ea"
      },
      "execution_count": 12,
      "outputs": [
        {
          "output_type": "stream",
          "name": "stdout",
          "text": [
            "Smoothed Data (Bin-Medians) Bins=50:\n",
            "10381    69770.025\n",
            "9437     69770.025\n",
            "13189    69770.025\n",
            "11698    69770.025\n",
            "13193    69770.025\n",
            "Name: Total Volume, dtype: float64\n",
            "Smoothed Data (Bin-Medians) Bins=250:\n",
            "10381    18536.65\n",
            "9437     18536.65\n",
            "13189    18536.65\n",
            "11698    18536.65\n",
            "13193    18536.65\n",
            "Name: Total Volume, dtype: float64\n"
          ]
        }
      ]
    },
    {
      "cell_type": "markdown",
      "source": [
        "**(iii)bin-boundaries**"
      ],
      "metadata": {
        "id": "MsfpDqcQqFRf"
      }
    },
    {
      "cell_type": "code",
      "source": [
        "trimmed_data50 = avocado_sorted.iloc[int(len(avocado_sorted) * 0.02):-int(len(avocado_sorted) * 0.02)]\n",
        "bin_boundaries50 = np.histogram_bin_edges(trimmed_data50, bins=50)\n",
        "\n",
        "trimmed_data250 = avocado_sorted.iloc[int(len(avocado_sorted) * 0.02):-int(len(avocado_sorted) * 0.02)]\n",
        "bin_boundaries250 = np.histogram_bin_edges(trimmed_data250, bins=250)\n",
        "\n",
        "print(\"Smoothed Data (Bin-Boundaries) Bins=50:\")\n",
        "print(bin_boundaries50)\n",
        "print(\"Smoothed Data (Bin-Boundaries) Bins=250:\")\n",
        "print(bin_boundaries250)"
      ],
      "metadata": {
        "colab": {
          "base_uri": "https://localhost:8080/"
        },
        "id": "-3QMMNJUqJwu",
        "outputId": "05bfe2a5-d15a-49b9-d12c-eb40e7b439d7"
      },
      "execution_count": 13,
      "outputs": [
        {
          "output_type": "stream",
          "name": "stdout",
          "text": [
            "Smoothed Data (Bin-Boundaries) Bins=50:\n",
            "[1.49119000e+03 1.27529503e+05 2.53567815e+05 3.79606128e+05\n",
            " 5.05644440e+05 6.31682753e+05 7.57721066e+05 8.83759378e+05\n",
            " 1.00979769e+06 1.13583600e+06 1.26187432e+06 1.38791263e+06\n",
            " 1.51395094e+06 1.63998925e+06 1.76602757e+06 1.89206588e+06\n",
            " 2.01810419e+06 2.14414250e+06 2.27018082e+06 2.39621913e+06\n",
            " 2.52225744e+06 2.64829575e+06 2.77433407e+06 2.90037238e+06\n",
            " 3.02641069e+06 3.15244900e+06 3.27848732e+06 3.40452563e+06\n",
            " 3.53056394e+06 3.65660226e+06 3.78264057e+06 3.90867888e+06\n",
            " 4.03471719e+06 4.16075551e+06 4.28679382e+06 4.41283213e+06\n",
            " 4.53887044e+06 4.66490876e+06 4.79094707e+06 4.91698538e+06\n",
            " 5.04302369e+06 5.16906201e+06 5.29510032e+06 5.42113863e+06\n",
            " 5.54717694e+06 5.67321526e+06 5.79925357e+06 5.92529188e+06\n",
            " 6.05133019e+06 6.17736851e+06 6.30340682e+06]\n",
            "Smoothed Data (Bin-Boundaries) Bins=250:\n",
            "[1.49119000e+03 2.66988525e+04 5.19065150e+04 7.71141776e+04\n",
            " 1.02321840e+05 1.27529503e+05 1.52737165e+05 1.77944828e+05\n",
            " 2.03152490e+05 2.28360153e+05 2.53567815e+05 2.78775478e+05\n",
            " 3.03983140e+05 3.29190803e+05 3.54398465e+05 3.79606128e+05\n",
            " 4.04813790e+05 4.30021453e+05 4.55229115e+05 4.80436778e+05\n",
            " 5.05644440e+05 5.30852103e+05 5.56059765e+05 5.81267428e+05\n",
            " 6.06475090e+05 6.31682753e+05 6.56890416e+05 6.82098078e+05\n",
            " 7.07305741e+05 7.32513403e+05 7.57721066e+05 7.82928728e+05\n",
            " 8.08136391e+05 8.33344053e+05 8.58551716e+05 8.83759378e+05\n",
            " 9.08967041e+05 9.34174703e+05 9.59382366e+05 9.84590028e+05\n",
            " 1.00979769e+06 1.03500535e+06 1.06021302e+06 1.08542068e+06\n",
            " 1.11062834e+06 1.13583600e+06 1.16104367e+06 1.18625133e+06\n",
            " 1.21145899e+06 1.23666665e+06 1.26187432e+06 1.28708198e+06\n",
            " 1.31228964e+06 1.33749730e+06 1.36270497e+06 1.38791263e+06\n",
            " 1.41312029e+06 1.43832795e+06 1.46353562e+06 1.48874328e+06\n",
            " 1.51395094e+06 1.53915860e+06 1.56436627e+06 1.58957393e+06\n",
            " 1.61478159e+06 1.63998925e+06 1.66519692e+06 1.69040458e+06\n",
            " 1.71561224e+06 1.74081990e+06 1.76602757e+06 1.79123523e+06\n",
            " 1.81644289e+06 1.84165055e+06 1.86685822e+06 1.89206588e+06\n",
            " 1.91727354e+06 1.94248120e+06 1.96768887e+06 1.99289653e+06\n",
            " 2.01810419e+06 2.04331185e+06 2.06851952e+06 2.09372718e+06\n",
            " 2.11893484e+06 2.14414250e+06 2.16935017e+06 2.19455783e+06\n",
            " 2.21976549e+06 2.24497315e+06 2.27018082e+06 2.29538848e+06\n",
            " 2.32059614e+06 2.34580380e+06 2.37101147e+06 2.39621913e+06\n",
            " 2.42142679e+06 2.44663445e+06 2.47184212e+06 2.49704978e+06\n",
            " 2.52225744e+06 2.54746510e+06 2.57267277e+06 2.59788043e+06\n",
            " 2.62308809e+06 2.64829575e+06 2.67350342e+06 2.69871108e+06\n",
            " 2.72391874e+06 2.74912640e+06 2.77433407e+06 2.79954173e+06\n",
            " 2.82474939e+06 2.84995705e+06 2.87516472e+06 2.90037238e+06\n",
            " 2.92558004e+06 2.95078770e+06 2.97599537e+06 3.00120303e+06\n",
            " 3.02641069e+06 3.05161835e+06 3.07682602e+06 3.10203368e+06\n",
            " 3.12724134e+06 3.15244900e+06 3.17765667e+06 3.20286433e+06\n",
            " 3.22807199e+06 3.25327966e+06 3.27848732e+06 3.30369498e+06\n",
            " 3.32890264e+06 3.35411031e+06 3.37931797e+06 3.40452563e+06\n",
            " 3.42973329e+06 3.45494096e+06 3.48014862e+06 3.50535628e+06\n",
            " 3.53056394e+06 3.55577161e+06 3.58097927e+06 3.60618693e+06\n",
            " 3.63139459e+06 3.65660226e+06 3.68180992e+06 3.70701758e+06\n",
            " 3.73222524e+06 3.75743291e+06 3.78264057e+06 3.80784823e+06\n",
            " 3.83305589e+06 3.85826356e+06 3.88347122e+06 3.90867888e+06\n",
            " 3.93388654e+06 3.95909421e+06 3.98430187e+06 4.00950953e+06\n",
            " 4.03471719e+06 4.05992486e+06 4.08513252e+06 4.11034018e+06\n",
            " 4.13554784e+06 4.16075551e+06 4.18596317e+06 4.21117083e+06\n",
            " 4.23637849e+06 4.26158616e+06 4.28679382e+06 4.31200148e+06\n",
            " 4.33720914e+06 4.36241681e+06 4.38762447e+06 4.41283213e+06\n",
            " 4.43803979e+06 4.46324746e+06 4.48845512e+06 4.51366278e+06\n",
            " 4.53887044e+06 4.56407811e+06 4.58928577e+06 4.61449343e+06\n",
            " 4.63970109e+06 4.66490876e+06 4.69011642e+06 4.71532408e+06\n",
            " 4.74053174e+06 4.76573941e+06 4.79094707e+06 4.81615473e+06\n",
            " 4.84136239e+06 4.86657006e+06 4.89177772e+06 4.91698538e+06\n",
            " 4.94219304e+06 4.96740071e+06 4.99260837e+06 5.01781603e+06\n",
            " 5.04302369e+06 5.06823136e+06 5.09343902e+06 5.11864668e+06\n",
            " 5.14385434e+06 5.16906201e+06 5.19426967e+06 5.21947733e+06\n",
            " 5.24468499e+06 5.26989266e+06 5.29510032e+06 5.32030798e+06\n",
            " 5.34551564e+06 5.37072331e+06 5.39593097e+06 5.42113863e+06\n",
            " 5.44634629e+06 5.47155396e+06 5.49676162e+06 5.52196928e+06\n",
            " 5.54717694e+06 5.57238461e+06 5.59759227e+06 5.62279993e+06\n",
            " 5.64800759e+06 5.67321526e+06 5.69842292e+06 5.72363058e+06\n",
            " 5.74883824e+06 5.77404591e+06 5.79925357e+06 5.82446123e+06\n",
            " 5.84966889e+06 5.87487656e+06 5.90008422e+06 5.92529188e+06\n",
            " 5.95049954e+06 5.97570721e+06 6.00091487e+06 6.02612253e+06\n",
            " 6.05133019e+06 6.07653786e+06 6.10174552e+06 6.12695318e+06\n",
            " 6.15216084e+06 6.17736851e+06 6.20257617e+06 6.22778383e+06\n",
            " 6.25299149e+06 6.27819916e+06 6.30340682e+06]\n"
          ]
        }
      ]
    },
    {
      "cell_type": "markdown",
      "source": [
        "**b. The dataset represents weekly retail scan data for National retail volume (units) and price.**\n",
        "\n",
        "**Retail scan data comes directly from retailers’ cash registers based on actual retail sales of Hass avocados.**\n",
        "\n",
        "**However, the company is interested in the monthly (total per month) and annual sales (total per year), rather than the total per week. So, reduce the data accordingly.**"
      ],
      "metadata": {
        "id": "USOtytkrrS3S"
      }
    },
    {
      "cell_type": "code",
      "source": [
        "avocado[\"Date\"]"
      ],
      "metadata": {
        "colab": {
          "base_uri": "https://localhost:8080/"
        },
        "id": "SxLIU_VRu-KL",
        "outputId": "fa87161b-031e-46f6-9365-ec458d8c8513"
      },
      "execution_count": 14,
      "outputs": [
        {
          "output_type": "execute_result",
          "data": {
            "text/plain": [
              "0        27-12-2015\n",
              "1        20-12-2015\n",
              "2        13-12-2015\n",
              "3        06-12-2015\n",
              "4        29-11-2015\n",
              "            ...    \n",
              "18245    28-01-2018\n",
              "18246    21-01-2018\n",
              "18247    14-01-2018\n",
              "18248    07-01-2018\n",
              "18249    18-03-2018\n",
              "Name: Date, Length: 18250, dtype: object"
            ]
          },
          "metadata": {},
          "execution_count": 14
        }
      ]
    },
    {
      "cell_type": "code",
      "source": [
        "avocado[\"Date\"] = pd.to_datetime(avocado[\"Date\"])\n",
        "\n",
        "new_avocado = avocado.set_index('Date', inplace=False)\n",
        "\n",
        "# Resampling the data to monthly and annual sums\n",
        "monthly_data = new_avocado.resample('M').sum()\n",
        "\n",
        "annual_data = new_avocado.resample('Y').sum()\n",
        "\n",
        "\n",
        "print(\"Monthly Sales Data:\")\n",
        "print(monthly_data.head())\n",
        "\n",
        "print(\"\\n Annual Sales Data:\")\n",
        "print(annual_data.head())\n"
      ],
      "metadata": {
        "colab": {
          "base_uri": "https://localhost:8080/"
        },
        "id": "yg6yHlvikA_X",
        "outputId": "24eb7bae-03ef-4ce0-8d2b-e7f8d0bb25ad"
      },
      "execution_count": 15,
      "outputs": [
        {
          "output_type": "stream",
          "name": "stdout",
          "text": [
            "Monthly Sales Data:\n",
            "            Total Volume          4046          4225         4770  \\\n",
            "Date                                                                \n",
            "2015-01-31  4.483928e+08  1.774049e+08  1.876275e+08  14622514.07   \n",
            "2015-02-28  2.384322e+08  1.000671e+08  9.047246e+07   7392508.49   \n",
            "2015-03-31  3.596584e+08  1.523944e+08  1.399306e+08  10385264.39   \n",
            "2015-04-30  3.339684e+08  1.298511e+08  1.378422e+08  10580827.70   \n",
            "2015-05-31  4.599584e+08  2.010728e+08  1.660874e+08  13433228.25   \n",
            "\n",
            "             Total Bags   Small Bags   Large Bags  XLarge Bags     year  \n",
            "Date                                                                     \n",
            "2015-01-31  68737935.18  55266824.70  13009189.68    461920.80  1088100  \n",
            "2015-02-28  40500095.71  34790734.55   5569659.72    139701.44   652860  \n",
            "2015-03-31  56948137.26  47960452.86   8724975.04    262709.36   870480  \n",
            "2015-04-30  55694316.72  45224464.63  10127806.25    342045.84   870480  \n",
            "2015-05-31  79364930.73  68152783.76  10869629.16    342517.81  1088100  \n",
            "\n",
            " Annual Sales Data:\n",
            "            Total Volume          4046          4225          4770  \\\n",
            "Date                                                                 \n",
            "2015-12-31  4.385469e+09  1.709450e+09  1.761054e+09  1.427724e+08   \n",
            "2016-12-31  4.820890e+09  1.525123e+09  1.672728e+09  1.598798e+08   \n",
            "2017-12-31  4.934306e+09  1.652038e+09  1.544735e+09  9.121751e+07   \n",
            "2018-12-31  1.382754e+09  4.605018e+08  4.077602e+08  2.293259e+07   \n",
            "\n",
            "              Total Bags    Small Bags    Large Bags  XLarge Bags      year  \n",
            "Date                                                                         \n",
            "2015-12-31  7.721922e+08  6.346827e+08  1.320664e+08   5443128.28  11314225  \n",
            "2016-12-31  1.463159e+09  1.106494e+09  3.366263e+08  20038284.84  11321856  \n",
            "2017-12-31  1.646289e+09  1.222953e+09  3.993390e+08  23997172.34  11541274  \n",
            "2018-12-31  4.915483e+08  3.607535e+08  1.235842e+08   7210591.87   2617346  \n"
          ]
        },
        {
          "output_type": "stream",
          "name": "stderr",
          "text": [
            "<ipython-input-15-5bc33f192db1>:1: UserWarning: Parsing dates in DD/MM/YYYY format when dayfirst=False (the default) was specified. This may lead to inconsistently parsed dates! Specify a format to ensure consistent parsing.\n",
            "  avocado[\"Date\"] = pd.to_datetime(avocado[\"Date\"])\n",
            "<ipython-input-15-5bc33f192db1>:6: FutureWarning: The default value of numeric_only in DataFrameGroupBy.sum is deprecated. In a future version, numeric_only will default to False. Either specify numeric_only or select only columns which should be valid for the function.\n",
            "  monthly_data = new_avocado.resample('M').sum()\n",
            "<ipython-input-15-5bc33f192db1>:8: FutureWarning: The default value of numeric_only in DataFrameGroupBy.sum is deprecated. In a future version, numeric_only will default to False. Either specify numeric_only or select only columns which should be valid for the function.\n",
            "  annual_data = new_avocado.resample('Y').sum()\n"
          ]
        }
      ]
    },
    {
      "cell_type": "markdown",
      "source": [
        "**c) Summarize the number of missing values for each attribute**"
      ],
      "metadata": {
        "id": "5tzxNJUvv299"
      }
    },
    {
      "cell_type": "code",
      "source": [
        "missing_vals = avocado.isna().sum()\n",
        "missing_vals"
      ],
      "metadata": {
        "colab": {
          "base_uri": "https://localhost:8080/"
        },
        "id": "sv4VjQQjtdk3",
        "outputId": "f70cdbf7-3e43-440e-b7be-81ee8cfd2b31"
      },
      "execution_count": 16,
      "outputs": [
        {
          "output_type": "execute_result",
          "data": {
            "text/plain": [
              "Date             0\n",
              "AveragePrice    28\n",
              "Total Volume     0\n",
              "4046             0\n",
              "4225             0\n",
              "4770             0\n",
              "Total Bags       0\n",
              "Small Bags       0\n",
              "Large Bags       0\n",
              "XLarge Bags      0\n",
              "type             0\n",
              "year             0\n",
              "region           0\n",
              "dtype: int64"
            ]
          },
          "metadata": {},
          "execution_count": 16
        }
      ]
    },
    {
      "cell_type": "markdown",
      "source": [
        "##There are 28 missing values in the dataset in the column AveragePrice and no missing values in other attributes\n",
        "\n",
        "\n"
      ],
      "metadata": {
        "id": "XXgLMM4QwIFE"
      }
    },
    {
      "cell_type": "code",
      "source": [
        "import re\n",
        "# Removing non-numeric characters from the AveragePrice column\n",
        "avocado['AveragePrice'] = avocado['AveragePrice'].apply(lambda x: re.sub('[^\\d.]', '', str(x)))\n",
        "\n",
        "# Converting the AveragePrice column to numeric\n",
        "avocado['AveragePrice'] = pd.to_numeric(avocado['AveragePrice'], errors='coerce')\n",
        "\n",
        "region_avg = avocado.groupby('region')['AveragePrice'].transform('mean')\n",
        "\n",
        "avocado['AveragePrice'].fillna(region_avg, inplace=True)\n",
        "\n",
        "avocado['AveragePrice'] = avocado['AveragePrice'].astype(str)\n",
        "\n",
        "print(avocado)\n"
      ],
      "metadata": {
        "colab": {
          "base_uri": "https://localhost:8080/"
        },
        "id": "JVewOLn0v9jk",
        "outputId": "142192ec-b06c-41c7-8848-3c0e1fc62c00"
      },
      "execution_count": 17,
      "outputs": [
        {
          "output_type": "stream",
          "name": "stdout",
          "text": [
            "            Date AveragePrice  Total Volume     4046       4225    4770  \\\n",
            "0     2015-12-27         1.33      64236.62  1036.74   54454.85   48.16   \n",
            "1     2015-12-20         1.35      54876.98   674.28   44638.81   58.33   \n",
            "2     2015-12-13         0.93     118220.22   794.70  109149.67  130.50   \n",
            "3     2015-06-12         1.08      78992.15  1132.00   71976.41   72.58   \n",
            "4     2015-11-29         1.29      51039.60   941.48   43838.39   75.78   \n",
            "...          ...          ...           ...      ...        ...     ...   \n",
            "18245 2018-01-28         1.71      13888.04  1191.70    3431.50    0.00   \n",
            "18246 2018-01-21         1.87      13766.76  1191.92    2452.79  727.94   \n",
            "18247 2018-01-14         1.93      16205.22  1527.63    2981.04  727.01   \n",
            "18248 2018-07-01         1.62      17489.58  2894.77    2356.13  224.53   \n",
            "18249 2018-03-18         1.56      15896.38  2055.35    1499.55    0.00   \n",
            "\n",
            "       Total Bags  Small Bags  Large Bags  XLarge Bags          type  year  \\\n",
            "0         8696.87     8603.62       93.25          0.0  conventional  2015   \n",
            "1         9505.56     9408.07       97.49          0.0  conventional  2015   \n",
            "2         8145.35     8042.21      103.14          0.0  conventional  2015   \n",
            "3         5811.16     5677.40      133.76          0.0  conventional  2015   \n",
            "4         6183.95     5986.26      197.69          0.0  conventional  2015   \n",
            "...           ...         ...         ...          ...           ...   ...   \n",
            "18245     9264.84     8940.04      324.80          0.0       organic  2018   \n",
            "18246     9394.11     9351.80       42.31          0.0       organic  2018   \n",
            "18247    10969.54    10919.54       50.00          0.0       organic  2018   \n",
            "18248    12014.15    11988.14       26.01          0.0       organic  2018   \n",
            "18249    12341.48    12114.81      226.67          0.0       organic  2018   \n",
            "\n",
            "                 region  \n",
            "0                Albany  \n",
            "1                Albany  \n",
            "2                Albany  \n",
            "3                Albany  \n",
            "4                Albany  \n",
            "...                 ...  \n",
            "18245  WestTexNewMexico  \n",
            "18246  WestTexNewMexico  \n",
            "18247  WestTexNewMexico  \n",
            "18248  WestTexNewMexico  \n",
            "18249  WestTexNewMexico  \n",
            "\n",
            "[18250 rows x 13 columns]\n"
          ]
        }
      ]
    },
    {
      "cell_type": "markdown",
      "source": [
        "**e. Discretize the attribute=“Date” using concept hierarchy into {Old, New, Recent} {2015,2016 : Old, 2017: New,\n",
        "2018: Recent} and plot in q-q plots**"
      ],
      "metadata": {
        "id": "0mzYjQgZCrII"
      }
    },
    {
      "cell_type": "code",
      "source": [
        "import pandas as pd\n",
        "import numpy as np\n",
        "import matplotlib.pyplot as plt\n",
        "import seaborn as sns\n",
        "from datetime import datetime\n",
        "\n",
        "# Load the dataset\n",
        "data = pd.read_csv(\"avocado.csv\")  # Replace with the actual dataset file path\n",
        "\n",
        "# Define the concept hierarchy for Date\n",
        "concept_hierarchy = {\n",
        "    2015: 'Old',\n",
        "    2016: 'Old',\n",
        "    2017: 'New',\n",
        "    2018: 'Recent'\n",
        "}\n",
        "\n",
        "# Discretize the \"Date\" attribute based on the concept hierarchy\n",
        "data['Date'] = pd.to_datetime(data['Date'])\n",
        "data['Date'] = data['Date'].dt.year.map(concept_hierarchy)\n",
        "#print(data['Date'] )\n",
        "# Replace NaN values in \"Date\" with the concept hierarchy values\n",
        "data['Date'].fillna(value=concept_hierarchy[2015], inplace=True)\n",
        "\n",
        "plt.figure(figsize=(8, 6))\n",
        "stats.probplot(df['Date'].cat.codes, plot=plt)\n",
        "plt.title('Q-Q Plot of Discretized Dates')\n",
        "plt.xlabel('Theoretical Quantiles')\n",
        "plt.ylabel('Sample Quantiles')\n",
        "plt.legend(['Data'])\n",
        "plt.show()"
      ],
      "metadata": {
        "colab": {
          "base_uri": "https://localhost:8080/",
          "height": 628
        },
        "id": "Z4zYoGahDGtv",
        "outputId": "3f6cac30-40d4-4004-e185-6e2161af3be3"
      },
      "execution_count": 28,
      "outputs": [
        {
          "output_type": "stream",
          "name": "stderr",
          "text": [
            "<ipython-input-28-782e0dd448fd>:19: UserWarning: Parsing dates in DD/MM/YYYY format when dayfirst=False (the default) was specified. This may lead to inconsistently parsed dates! Specify a format to ensure consistent parsing.\n",
            "  data['Date'] = pd.to_datetime(data['Date'])\n"
          ]
        },
        {
          "output_type": "display_data",
          "data": {
            "text/plain": [
              "<Figure size 800x600 with 1 Axes>"
            ],
            "image/png": "[encoded data removed]"
          },
          "metadata": {}
        }
      ]
    }
  ]
}