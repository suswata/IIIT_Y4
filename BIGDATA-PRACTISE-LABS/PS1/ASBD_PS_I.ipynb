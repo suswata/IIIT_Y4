{
  "cells": [
    {
      "cell_type": "markdown",
      "source": [
        "##ASBD LAB PROBLEM SET - 1 (PS-I)\n",
        "\n",
        "##Done By CS20B1057 A S V Dhanush"
      ],
      "metadata": {
        "id": "BIKCkx-6s656"
      }
    },
    {
      "cell_type": "markdown",
      "source": [
        "*Note : I am using Python for doing the following code*"
      ],
      "metadata": {
        "id": "4vtrwGi3tzH2"
      }
    },
    {
      "cell_type": "markdown",
      "source": [
        "(1) Given the following setup {Class, Tally score, Frequency}, develop an application that generates\n",
        "the table shown; (you can populate the relevant data; minimum data size :50 records). The table is only\n",
        "an illustration for a data of color scores, you are free to test the application over any data set with the\n",
        "application generating the tally and frequency scores.\n",
        "\n",
        "![ss8.jpg](data:image/jpeg;base64,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)\n"
      ],
      "metadata": {
        "id": "DlY1IGEatYYK"
      }
    },
    {
      "cell_type": "code",
      "source": [
        "#importing libraries\n",
        "import pandas as pd\n",
        "import numpy as np\n",
        "import matplotlib.pyplot as plt"
      ],
      "metadata": {
        "id": "7Wk3olGDtKN9"
      },
      "execution_count": null,
      "outputs": []
    },
    {
      "cell_type": "code",
      "source": [
        "df = pd.DataFrame({\"Score\":[\"1 = Brown\",\"2 = Blue\",\"3 = Green\",\"4 = Other\"],\n",
        "                   \"Tally\":[\"||||`||||`|||\",\"||||`|||\",\"||||`\",\"||\"],    #created the table\n",
        "                   \"Frequency\":[13,8,5,2]\n",
        "                   })\n",
        "print(df.to_string(index=False)) #To hide the index count\n"
      ],
      "metadata": {
        "id": "0M0ceKqMuJMz",
        "outputId": "cc2d8d5b-978f-4f4a-8e59-2a97a46aada9",
        "colab": {
          "base_uri": "https://localhost:8080/"
        }
      },
      "execution_count": null,
      "outputs": [
        {
          "output_type": "stream",
          "name": "stdout",
          "text": [
            "    Score         Tally  Frequency\n",
            "1 = Brown ||||`||||`|||         13\n",
            " 2 = Blue      ||||`|||          8\n",
            "3 = Green         ||||`          5\n",
            "4 = Other            ||          2\n"
          ]
        }
      ]
    },
    {
      "cell_type": "markdown",
      "source": [
        "#### Generating Tally's to Custom this tally table for for same score values"
      ],
      "metadata": {
        "id": "qqF06eVkw2BJ"
      }
    },
    {
      "cell_type": "code",
      "source": [
        "import pandas as pd\n",
        "\n",
        "# Create a DataFrame with the original data\n",
        "data = {\n",
        "    \"Score\": [\"1 = Brown\", \"2 = Blue\", \"3 = Green\", \"4 = Other\"],\n",
        "    \"Frequency\": [100, 72 ,31, 64]\n",
        "}\n",
        "\n",
        "df = pd.DataFrame(data)\n",
        "\n",
        "# Function to convert frequency to tally marks\n",
        "def frequency_to_tally(frequency):\n",
        "    mystr = \"\"\n",
        "    for i in range(1, frequency + 1):  # Start from 1 and go up to 'frequency'\n",
        "        if i % 5 != 0:\n",
        "            mystr += \"|\"\n",
        "        else:\n",
        "            mystr += \"`\"\n",
        "    return mystr\n",
        "\n",
        "\n",
        "\n",
        "\n",
        "# Apply the function to the \"Frequency\" column to create the \"Tally\" column\n",
        "df[\"Tally\"] = df[\"Frequency\"].apply(frequency_to_tally)\n",
        "\n",
        "# Print the DataFrame without the index\n",
        "print(df.to_string(index=False))\n"
      ],
      "metadata": {
        "id": "y1xtmkiGvqhp",
        "outputId": "f7ba262d-ed25-4b15-8d8f-348e497a5270",
        "colab": {
          "base_uri": "https://localhost:8080/"
        }
      },
      "execution_count": null,
      "outputs": [
        {
          "output_type": "stream",
          "name": "stdout",
          "text": [
            "    Score  Frequency                                                                                                Tally\n",
            "1 = Brown        100 ||||`||||`||||`||||`||||`||||`||||`||||`||||`||||`||||`||||`||||`||||`||||`||||`||||`||||`||||`||||`\n",
            " 2 = Blue         72                             ||||`||||`||||`||||`||||`||||`||||`||||`||||`||||`||||`||||`||||`||||`||\n",
            "3 = Green         31                                                                      ||||`||||`||||`||||`||||`||||`|\n",
            "4 = Other         64                                     ||||`||||`||||`||||`||||`||||`||||`||||`||||`||||`||||`||||`||||\n"
          ]
        }
      ]
    },
    {
      "cell_type": "markdown",
      "source": [
        "(2) In a class of 18 students, assume marks distribution in an exam are as follows. Let the roll numbers\n",
        "start with CSE20D01 and all the odd roll numbers secure marks as follows: 25+((i+7)%10) and even\n",
        "roll numbers : 25+((i+8)%10). Develop an application that sets up the data and calculate the mean and\n",
        "median for the marks obtained using the platform support.\n",
        "\n"
      ],
      "metadata": {
        "id": "6Voz2AzG0j2q"
      }
    },
    {
      "cell_type": "code",
      "source": [
        "class_marks = []\n",
        "for i in range(1,19):#considering 18 students\n",
        "  if i%2 != 0:\n",
        "    mark = 25+((i+7)%10) #odd\n",
        "  else:\n",
        "    mark = 25+((i+8)%10) #even\n",
        "\n",
        "  class_marks.append(mark)\n",
        "print(class_marks)\n",
        "print(len(class_marks))"
      ],
      "metadata": {
        "id": "99TrIm9G0sxq",
        "outputId": "7c98b303-851e-4ba9-97e4-2d5673dc460a",
        "colab": {
          "base_uri": "https://localhost:8080/"
        }
      },
      "execution_count": null,
      "outputs": [
        {
          "output_type": "stream",
          "name": "stdout",
          "text": [
            "[33, 25, 25, 27, 27, 29, 29, 31, 31, 33, 33, 25, 25, 27, 27, 29, 29, 31]\n",
            "18\n"
          ]
        }
      ]
    },
    {
      "cell_type": "code",
      "source": [
        "#Calculating mean and median\n",
        "mean_sum = sum(class_marks)\n",
        "mean = mean_sum / 18\n",
        "\n",
        "print(\"Mean : \",mean)\n",
        "class_marks.sort()\n",
        "if len(class_marks) % 2 == 0:\n",
        "\tmedian1 = class_marks[18//2]\n",
        "\tmedian2 = class_marks[18//2 - 1]\n",
        "\tmedian = (median1 + median2)/2\n",
        "else:\n",
        "\tmedian = class_marks[18//2]\n",
        "print(\"Median : \",median)\n"
      ],
      "metadata": {
        "id": "Iri-B_Bs3JNf",
        "outputId": "eb28cf97-7c24-4c99-c69e-07c78be637eb",
        "colab": {
          "base_uri": "https://localhost:8080/"
        }
      },
      "execution_count": null,
      "outputs": [
        {
          "output_type": "stream",
          "name": "stdout",
          "text": [
            "Mean :  28.666666666666668\n",
            "Median :  29.0\n"
          ]
        }
      ]
    },
    {
      "cell_type": "code",
      "source": [
        "#direct approach\n",
        "import statistics #which has mean median builtins\n",
        "mean_value  = statistics.mean(class_marks)\n",
        "\n",
        "median_value = statistics.median(class_marks)\n",
        "print(\"Mean : \",mean_value)\n",
        "print(\"Median : \",median_value)"
      ],
      "metadata": {
        "id": "lhZHAU0n2Yb_",
        "outputId": "4feefd75-697f-4d5a-fc76-812f197f10a5",
        "colab": {
          "base_uri": "https://localhost:8080/"
        }
      },
      "execution_count": null,
      "outputs": [
        {
          "output_type": "stream",
          "name": "stdout",
          "text": [
            "Mean :  28.666666666666668\n",
            "Median :  29.0\n"
          ]
        }
      ]
    },
    {
      "cell_type": "markdown",
      "source": [
        "(3) For a sample space of 20 elements, the values are fitted to the line Y=2X+3, X>5. Develop an\n",
        "application that sets up the data and computes the standard deviation of this sample space. (use random\n",
        "number generator supported in your development platform to generate values of X)."
      ],
      "metadata": {
        "id": "TGfB_7Q_4X5R"
      }
    },
    {
      "cell_type": "code",
      "source": [
        "import random\n",
        "import math\n",
        "\n",
        "\n",
        "a = 2 #slope\n",
        "b = 3 #intercept\n",
        "n = 20 #sample space\n",
        "\n",
        "random_values_x = [random.uniform(6, 20) for _ in range(n)] #For X>5\n",
        "print(random_values_x)\n",
        "\n",
        "# Calculating Y values based on the equation Y = 2X + 3\n",
        "values_y = [a * x + b for x in random_values_x]\n",
        "\n",
        "# Calculate the mean of Y values\n",
        "mean_y = sum(values_y) / n\n",
        "\n",
        "# Calculate the squared differences from the mean\n",
        "squar = [(y - mean_y) ** 2 for y in values_y]\n",
        "\n",
        "# Calculate the variance as the average of squared differences\n",
        "var = sum(squar) / n\n",
        "\n",
        "# Calculate the standard deviation as the square root of the variance\n",
        "std = math.sqrt(var)\n",
        "\n",
        "# Print the generated data and the standard deviation\n",
        "print(\"Generated X values:\", random_values_x)\n",
        "print(\"Corresponding Y values:\", values_y)\n",
        "print(\"Standard Deviation of Y values:\", std)\n"
      ],
      "metadata": {
        "id": "bT1jiQ1h4YuJ",
        "outputId": "bd87b1fd-f0f6-4741-fbf9-e99489206be3",
        "colab": {
          "base_uri": "https://localhost:8080/"
        }
      },
      "execution_count": null,
      "outputs": [
        {
          "output_type": "stream",
          "name": "stdout",
          "text": [
            "[14.494965462627299, 8.016739768174475, 16.81072813419083, 8.107304266608281, 15.238457154395732, 19.29824323478047, 14.742422190534297, 11.925651478768774, 16.66094488883498, 6.777629255189754, 7.739852191146943, 18.644397979956384, 14.066451362440288, 6.712995865940937, 11.786523487536353, 11.444899345752615, 17.49229330285643, 11.158583192275824, 11.520323857860376, 18.66470850474663]\n",
            "Generated X values: [14.494965462627299, 8.016739768174475, 16.81072813419083, 8.107304266608281, 15.238457154395732, 19.29824323478047, 14.742422190534297, 11.925651478768774, 16.66094488883498, 6.777629255189754, 7.739852191146943, 18.644397979956384, 14.066451362440288, 6.712995865940937, 11.786523487536353, 11.444899345752615, 17.49229330285643, 11.158583192275824, 11.520323857860376, 18.66470850474663]\n",
            "Corresponding Y values: [31.989930925254598, 19.03347953634895, 36.62145626838166, 19.214608533216563, 33.476914308791464, 41.59648646956094, 32.4848443810686, 26.85130295753755, 36.32188977766996, 16.55525851037951, 18.479704382293885, 40.28879595991277, 31.132902724880577, 16.425991731881872, 26.573046975072707, 25.88979869150523, 37.98458660571286, 25.317166384551648, 26.040647715720752, 40.32941700949326]\n",
            "Standard Deviation of Y values: 8.10388780069175\n"
          ]
        }
      ]
    },
    {
      "cell_type": "markdown",
      "source": [
        "(4) For a given data of heights of a class, the heights of 15 students are recorded as 167.65, 167, 172,\n",
        "175, 165, 167, 168, 167, 167.3, 170, 167.5, 170, 167, 169, and 172. Develop an application that\n",
        "computes; explore if there are any packages supported in your platform that depicts these measures /\n",
        "their calculations of central tendency in a visual form for ease of understanding.\n",
        "a. Mean height of the student\n",
        "b. Median and Mode of the sample space\n",
        "c. Standard deviation\n",
        "d. Measure of skewness. [(Mean-Mode)/standard deviation]"
      ],
      "metadata": {
        "id": "SSvVOqTf8KrO"
      }
    },
    {
      "cell_type": "code",
      "source": [
        "import numpy as np\n",
        "import matplotlib.pyplot as plt\n",
        "from scipy import stats\n",
        "\n",
        "# Given heights data\n",
        "heights = np.array([167.65, 167, 172, 175, 165, 167, 168, 167, 167.3, 170, 167.5, 170, 167, 169, 172])\n",
        "\n",
        "# Calculate mean height\n",
        "mean_height = np.mean(heights)\n",
        "\n",
        "# Calculate median height\n",
        "median_height = np.median(heights)\n",
        "\n",
        "# Calculate mode height\n",
        "mode_height = stats.mode(heights).mode[0]\n",
        "\n",
        "# Calculate standard deviation\n",
        "std_deviation = np.std(heights)\n",
        "\n",
        "# Calculate skewness\n",
        "skewness = (mean_height - mode_height) / std_deviation\n",
        "\n",
        "# Plot a histogram for visualizing the data\n",
        "plt.hist(heights, bins=10, edgecolor='k')\n",
        "plt.xlabel('Height')\n",
        "plt.ylabel('Frequency')\n",
        "plt.title('Height Distribution')\n",
        "plt.axvline(mean_height, color='r', linestyle='dashed', linewidth=2, label='Mean')\n",
        "plt.axvline(median_height, color='g', linestyle='dashed', linewidth=2, label='Median')\n",
        "plt.legend()\n",
        "plt.show()\n",
        "\n",
        "# Display computed measures\n",
        "print(f\"Mean height: {mean_height:.2f}\")\n",
        "print(f\"Median height: {median_height:.2f}\")\n",
        "print(f\"Mode height: {mode_height:.2f}\")\n",
        "print(f\"Standard Deviation: {std_deviation:.2f}\")\n",
        "print(f\"Skewness: {skewness:.2f}\")\n"
      ],
      "metadata": {
        "id": "OqSGj1W25Cu_",
        "outputId": "baea894f-85f5-439f-8de5-f7598214c619",
        "colab": {
          "base_uri": "https://localhost:8080/",
          "height": 613
        }
      },
      "execution_count": null,
      "outputs": [
        {
          "output_type": "stream",
          "name": "stderr",
          "text": [
            "<ipython-input-8-f35fc5317f69>:15: FutureWarning: Unlike other reduction functions (e.g. `skew`, `kurtosis`), the default behavior of `mode` typically preserves the axis it acts along. In SciPy 1.11.0, this behavior will change: the default value of `keepdims` will become False, the `axis` over which the statistic is taken will be eliminated, and the value None will no longer be accepted. Set `keepdims` to True or False to avoid this warning.\n",
            "  mode_height = stats.mode(heights).mode[0]\n"
          ]
        },
        {
          "output_type": "display_data",
          "data": {
            "text/plain": [
              "<Figure size 640x480 with 1 Axes>"
            ],
            "image/png": "[encoded data removed]"
          },
          "metadata": {}
        },
        {
          "output_type": "stream",
          "name": "stdout",
          "text": [
            "Mean height: 168.76\n",
            "Median height: 167.65\n",
            "Mode height: 167.00\n",
            "Standard Deviation: 2.52\n",
            "Skewness: 0.70\n"
          ]
        }
      ]
    },
    {
      "cell_type": "markdown",
      "source": [
        "(5) In Analytics and Systems of Bigdata course, for a class of 100 students, around 31 students secured\n",
        "‘S’ grade, 29 secured ‘B’ grade, 25 ‘C’ grades, and rest of them secured ‘D’ grades. If the range of each\n",
        "grade is 15 marks. (S for 85 to 100 marks, A for 70 to 85 ...). Develop an application that represents\n",
        "the above data: using Pie and Bar graphs."
      ],
      "metadata": {
        "id": "pMNL_H3i9_YW"
      }
    },
    {
      "cell_type": "code",
      "source": [
        "\n",
        "# Data\n",
        "grades = ['S', 'B', 'C', 'D']\n",
        "grade_counts = [31, 29, 25, 15]  # Assuming the rest secured 'D' grades\n",
        "\n",
        "# Create a pie chart\n",
        "plt.figure(figsize=(10, 5))\n",
        "plt.subplot(1, 2, 1)\n",
        "plt.pie(grade_counts, labels=grades, autopct='%1.1f%%', startangle=140)\n",
        "plt.title('Grade Distribution (Pie Chart)')\n",
        "\n",
        "# Create a bar chart\n",
        "plt.subplot(1, 2, 2)\n",
        "plt.bar(grades, grade_counts, color=['green', 'blue', 'orange', 'red'])\n",
        "plt.xlabel('Grades')\n",
        "plt.ylabel('Number of Students')\n",
        "plt.title('Grade Distribution (Bar Chart)')\n",
        "\n",
        "\n",
        "plt.show()\n"
      ],
      "metadata": {
        "id": "mN3KvBJn-CYv",
        "outputId": "4e326ffa-c44b-4b4e-8996-050c8ade5499",
        "colab": {
          "base_uri": "https://localhost:8080/",
          "height": 487
        }
      },
      "execution_count": null,
      "outputs": [
        {
          "output_type": "display_data",
          "data": {
            "text/plain": [
              "<Figure size 1000x500 with 2 Axes>"
            ],
            "image/png": "[encoded data removed]"
          },
          "metadata": {}
        }
      ]
    },
    {
      "cell_type": "markdown",
      "source": [
        "(6) On a given day (average basis), a student is observed to spend 33% of time in studying, 30% in\n",
        "sleeping, 18% in playing, 5% for hobby activities, and rest for spending with friends and family. Plot a\n",
        "pie chart showing his daily activities."
      ],
      "metadata": {
        "id": "1Z4SBWnE-eI1"
      }
    },
    {
      "cell_type": "code",
      "source": [
        "import matplotlib.pyplot as plt\n",
        "\n",
        "# Data\n",
        "activities = ['Studying', 'Sleeping', 'Playing', 'Hobby', 'Friends and Family']\n",
        "time_percentages = [33, 30, 18, 5, 14]  # 100% - (33% + 30% + 18% + 5%) = 14%\n",
        "\n",
        "# Create a pie chart\n",
        "plt.figure(figsize=(8, 8))\n",
        "plt.pie(time_percentages, labels=activities, autopct='%1.2f%%', startangle=140)\n",
        "plt.title('Daily Activities Pie Chart')\n",
        "\n",
        "plt.show()\n"
      ],
      "metadata": {
        "id": "bgVqOAtm-jZ1",
        "outputId": "f5cccd4f-a647-41ee-8c23-d877129e6dea",
        "colab": {
          "base_uri": "https://localhost:8080/",
          "height": 675
        }
      },
      "execution_count": null,
      "outputs": [
        {
          "output_type": "display_data",
          "data": {
            "text/plain": [
              "<Figure size 800x800 with 1 Axes>"
            ],
            "image/png": "[encoded data removed]"
          },
          "metadata": {}
        }
      ]
    },
    {
      "cell_type": "markdown",
      "source": [
        "(7) Develop an application (absolute grader) that accepts marks scored by 20 students in ASBD course\n",
        "(as a split up of three: Mid Sem (30), End Sem (50) and Assignments(20). Compute the total and use it\n",
        "to grade the students following absolute grading: >=90 – S ; >=80 – A and so on till D. Compute the\n",
        "Class average for total marks in the course and 50% of class average would be fixed as the cut off for\n",
        "E. Generate a frequency table for the grades as well (Table displaying the grades and counts of them).\n"
      ],
      "metadata": {
        "id": "pLeO-WGlBity"
      }
    },
    {
      "cell_type": "code",
      "source": [
        "# Define the marks for 20 students as lists of Mid Sem, End Sem, and Assignments (out of 30, 50, 20 respectively)\n",
        "#random\n",
        "mid_sem_marks = [28, 25, 22, 30, 23, 23, 18, 20, 20, 29, 27, 24, 30, 28, 26, 22, 23, 20, 28, 27]\n",
        "end_sem_marks = [20, 48, 43, 50, 30, 42, 36, 40, 20, 49, 46, 36, 50, 36, 46, 38, 43, 40, 48, 47]\n",
        "assignment_marks = [10, 19, 16, 18, 17, 17, 12, 11, 14, 20, 19, 16, 9, 18, 17, 15, 16, 14, 19, 18]\n",
        "\n",
        "total_marks = []\n",
        "for i in range(0,len(mid_sem_marks)):\n",
        "  total_marks.append(mid_sem_marks[i]+end_sem_marks[i]+assignment_marks[i])\n",
        "print(total_marks)\n",
        "\n",
        "# Calculate the class average\n",
        "class_average = sum(total_marks) / len(total_marks)\n",
        "\n",
        "#Calculating Cutoff\n",
        "cutoff_e = 0.5 * class_average\n",
        "\n",
        "# Define the grading criteria\n",
        "grading = {\n",
        "    'S': (90, 100),\n",
        "    'A': (80, 89),\n",
        "    'B': (70, 79),\n",
        "    'C': (60, 69),\n",
        "    'D': (50, 59),\n",
        "    'E': (0, 49)\n",
        "}\n",
        "\n",
        "# Initialize a dictionary to store the grade counts\n",
        "grade_counts = {grade: 0 for grade in grading.keys()}\n",
        "\n",
        "# Assign grades to students and count the grades\n",
        "grades = []\n",
        "for marks in total_marks:\n",
        "    for grade, (lower, upper) in grading.items():\n",
        "        if lower <= marks <= upper:\n",
        "            grades.append(grade)\n",
        "            grade_counts[grade] += 1\n",
        "            break\n",
        "    else:\n",
        "        raise ValueError(f\"Total marks {marks} not within any grading range.\")\n",
        "\n",
        "# Print the grades and their counts\n",
        "print(\"Grades and Counts:\")\n",
        "for grade, count in grade_counts.items():\n",
        "    print(f\"{grade}: {count}\")\n",
        "\n",
        "# Print the class average and cutoff for grade E\n",
        "print(f\"Class Average: {class_average:.2f}\")\n",
        "print(f\"Cutoff for Grade E: {cutoff_e:.2f}\")\n"
      ],
      "metadata": {
        "id": "ee0o-Pv2_4WB",
        "outputId": "58eb91fa-87a6-4d10-e829-b83d620b8237",
        "colab": {
          "base_uri": "https://localhost:8080/"
        }
      },
      "execution_count": null,
      "outputs": [
        {
          "output_type": "stream",
          "name": "stdout",
          "text": [
            "[58, 92, 81, 98, 70, 82, 66, 71, 54, 98, 92, 76, 89, 82, 89, 75, 82, 74, 95, 92]\n",
            "Grades and Counts:\n",
            "S: 6\n",
            "A: 6\n",
            "B: 5\n",
            "C: 1\n",
            "D: 2\n",
            "E: 0\n",
            "Class Average: 80.80\n",
            "Cutoff for Grade E: 40.40\n"
          ]
        }
      ]
    },
    {
      "cell_type": "markdown",
      "source": [
        "(8) Extend the application developed in (7) to support relative grading which uses the class average\n",
        "(mean) and standard deviation to compute the cutoffs for various grades as opposed to fixing them\n",
        "statically; you can refer the sample grader (excel sheet) attached to understand the formulas for fixing\n",
        "the cutoffs; the grader would involve, mean, standard deviation, max mark, passed students data mean,\n",
        "etc. Understand the excel grader thoroughly before you try mimicking such an application in your\n",
        "development platform.\n",
        "\n",
        "Formulas Required for Relative Grading:\n",
        "\n",
        "\n",
        "• Passing Minimum: 50% of class average. (Minimum marks for passing)\n",
        "\n",
        "\n",
        "• X= Passing Students’ Mean- Passing Minimum.\n",
        "\n",
        "\n",
        "• S_cutoff = Max_Mark – 0.1 *(Max_Mark-Passing Students Mean)\n",
        "\n",
        "\n",
        "• Y= S_cutoff – Passing Students Mean\n",
        "\n",
        "\n",
        "• A_cutoff = Passing Students Mean + Y * (5/8)\n",
        "\n",
        "\n",
        "• B_cutoff = Passing Students Mean + Y * (2/8)\n",
        "\n",
        "\n",
        "• C_cutoff = Passing Students Mean - X * (2/8)\n",
        "\n",
        "\n",
        "• D_cutoff = Passing Students Mean - X * (5/8)\n",
        "\n",
        "\n",
        "• E_cutoff = Passing Minimum\n"
      ],
      "metadata": {
        "id": "54_6DShlBWv2"
      }
    },
    {
      "cell_type": "code",
      "source": [
        "import numpy as np\n",
        "\n",
        "mid_sem_marks = [28, 25, 22, 30, 23, 23, 18, 20, 20, 29, 27, 24, 30, 28, 26, 22, 23, 20, 28, 27]\n",
        "end_sem_marks = [20, 48, 43, 50, 30, 42, 36, 40, 20, 49, 46, 36, 50, 36, 46, 38, 43, 40, 48, 47]\n",
        "assignment_marks = [10, 19, 16, 18, 17, 17, 12, 11, 14, 20, 19, 16, 9, 18, 17, 15, 16, 14, 19, 18]\n",
        "\n",
        "# Calculate total marks for each student\n",
        "total_marks = [mid + end + assignment for mid, end, assignment in zip(mid_sem_marks, end_sem_marks, assignment_marks)]\n",
        "\n",
        "# Calculate class average and standard deviation\n",
        "class_average = np.mean(total_marks)\n",
        "std_deviation = np.std(total_marks)\n",
        "\n",
        "# Calculate passing minimum\n",
        "pass_min = 0.5 * class_average\n",
        "\n",
        "# Calculate passing students' mean\n",
        "pass_stu = [marks for marks in total_marks if marks >= pass_min]\n",
        "pass_stu_mean = np.mean(pass_stu)\n",
        "\n",
        "#Calculate cutoffs for grades\n",
        "max_mark = max(total_marks)\n",
        "x = pass_stu_mean - pass_min\n",
        "s_cutoff = max_mark - 0.1 * (max_mark - pass_stu_mean)\n",
        "y = s_cutoff - pass_stu_mean\n",
        "a_cutoff = pass_stu_mean + y * (5/8)\n",
        "b_cutoff = pass_stu_mean + y * (2/8)\n",
        "c_cutoff = pass_stu_mean - x * (2/8)\n",
        "d_cutoff = pass_stu_mean - x * (5/8)\n",
        "e_cutoff = pass_min\n",
        "\n",
        "#Initialize grade lists\n",
        "grades = []\n",
        "\n",
        "#grade count dictionaries\n",
        "grade_counts = {'S': 0, 'A': 0, 'B': 0, 'C': 0, 'D': 0, 'E': 0}\n",
        "\n",
        "# Assign grades to students and count the grades\n",
        "for marks in total_marks:\n",
        "    if marks >= s_cutoff:\n",
        "        grade = 'S'\n",
        "    elif marks >= a_cutoff:\n",
        "        grade = 'A'\n",
        "    elif marks >= b_cutoff:\n",
        "        grade = 'B'\n",
        "    elif marks >= c_cutoff:\n",
        "        grade = 'C'\n",
        "    elif marks >= d_cutoff:\n",
        "        grade = 'D'\n",
        "    else:\n",
        "        grade = 'E'\n",
        "\n",
        "    grades.append(grade)\n",
        "    grade_counts[grade] += 1\n",
        "\n",
        "# Print the grades and their counts\n",
        "print(\"Grades and Counts:\")\n",
        "for grade, count in grade_counts.items():\n",
        "    print(f\"{grade}: {count}\")\n",
        "\n",
        "data = {'Grades': ['S', 'A', 'B', 'C', 'D', 'E'],'Counts': [2, 4, 2, 8, 3, 1]}\n",
        "\n",
        "# Create a DataFrame\n",
        "df = pd.DataFrame(data)\n",
        "\n",
        "# Function to apply conditional formatting\n",
        "def highlight_failures(row):\n",
        "    if row['Grades'] == 'E':\n",
        "        return ['background-color: red'] * 2\n",
        "    elif row['Grades'] == 'D':\n",
        "        return ['background-color: yellow'] * 2\n",
        "    else:\n",
        "        return ['background-color: green'] * 2\n",
        "\n",
        "# Apply conditional formatting\n",
        "styled_df = df.style.apply(highlight_failures, axis=1)\n",
        "\n",
        "# Display the styled DataFrame\n",
        "styled_df\n"
      ],
      "metadata": {
        "id": "XDnk_z8rBVV6",
        "outputId": "02f09da8-0741-40f0-cabb-08dc245d9e93",
        "colab": {
          "base_uri": "https://localhost:8080/",
          "height": 359
        }
      },
      "execution_count": null,
      "outputs": [
        {
          "output_type": "stream",
          "name": "stdout",
          "text": [
            "Grades and Counts:\n",
            "S: 2\n",
            "A: 4\n",
            "B: 2\n",
            "C: 8\n",
            "D: 3\n",
            "E: 1\n"
          ]
        },
        {
          "output_type": "execute_result",
          "data": {
            "text/plain": [
              "<pandas.io.formats.style.Styler at 0x797458d06bf0>"
            ],
            "text/html": [
              "<style type=\"text/css\">\n",
              "#T_e44aa_row0_col0, #T_e44aa_row0_col1, #T_e44aa_row1_col0, #T_e44aa_row1_col1, #T_e44aa_row2_col0, #T_e44aa_row2_col1, #T_e44aa_row3_col0, #T_e44aa_row3_col1 {\n",
              "  background-color: green;\n",
              "}\n",
              "#T_e44aa_row4_col0, #T_e44aa_row4_col1 {\n",
              "  background-color: yellow;\n",
              "}\n",
              "#T_e44aa_row5_col0, #T_e44aa_row5_col1 {\n",
              "  background-color: red;\n",
              "}\n",
              "</style>\n",
              "<table id=\"T_e44aa\" class=\"dataframe\">\n",
              "  <thead>\n",
              "    <tr>\n",
              "      <th class=\"blank level0\" >&nbsp;</th>\n",
              "      <th id=\"T_e44aa_level0_col0\" class=\"col_heading level0 col0\" >Grades</th>\n",
              "      <th id=\"T_e44aa_level0_col1\" class=\"col_heading level0 col1\" >Counts</th>\n",
              "    </tr>\n",
              "  </thead>\n",
              "  <tbody>\n",
              "    <tr>\n",
              "      <th id=\"T_e44aa_level0_row0\" class=\"row_heading level0 row0\" >0</th>\n",
              "      <td id=\"T_e44aa_row0_col0\" class=\"data row0 col0\" >S</td>\n",
              "      <td id=\"T_e44aa_row0_col1\" class=\"data row0 col1\" >2</td>\n",
              "    </tr>\n",
              "    <tr>\n",
              "      <th id=\"T_e44aa_level0_row1\" class=\"row_heading level0 row1\" >1</th>\n",
              "      <td id=\"T_e44aa_row1_col0\" class=\"data row1 col0\" >A</td>\n",
              "      <td id=\"T_e44aa_row1_col1\" class=\"data row1 col1\" >4</td>\n",
              "    </tr>\n",
              "    <tr>\n",
              "      <th id=\"T_e44aa_level0_row2\" class=\"row_heading level0 row2\" >2</th>\n",
              "      <td id=\"T_e44aa_row2_col0\" class=\"data row2 col0\" >B</td>\n",
              "      <td id=\"T_e44aa_row2_col1\" class=\"data row2 col1\" >2</td>\n",
              "    </tr>\n",
              "    <tr>\n",
              "      <th id=\"T_e44aa_level0_row3\" class=\"row_heading level0 row3\" >3</th>\n",
              "      <td id=\"T_e44aa_row3_col0\" class=\"data row3 col0\" >C</td>\n",
              "      <td id=\"T_e44aa_row3_col1\" class=\"data row3 col1\" >8</td>\n",
              "    </tr>\n",
              "    <tr>\n",
              "      <th id=\"T_e44aa_level0_row4\" class=\"row_heading level0 row4\" >4</th>\n",
              "      <td id=\"T_e44aa_row4_col0\" class=\"data row4 col0\" >D</td>\n",
              "      <td id=\"T_e44aa_row4_col1\" class=\"data row4 col1\" >3</td>\n",
              "    </tr>\n",
              "    <tr>\n",
              "      <th id=\"T_e44aa_level0_row5\" class=\"row_heading level0 row5\" >5</th>\n",
              "      <td id=\"T_e44aa_row5_col0\" class=\"data row5 col0\" >E</td>\n",
              "      <td id=\"T_e44aa_row5_col1\" class=\"data row5 col1\" >1</td>\n",
              "    </tr>\n",
              "  </tbody>\n",
              "</table>\n"
            ]
          },
          "metadata": {},
          "execution_count": 20
        }
      ]
    },
    {
      "cell_type": "code",
      "source": [],
      "metadata": {
        "id": "iLqSglL9TZ_Q"
      },
      "execution_count": null,
      "outputs": []
    }
  ],
  "metadata": {
    "colab": {
      "provenance": []
    },
    "kernelspec": {
      "display_name": "Python 3",
      "name": "python3"
    }
  },
  "nbformat": 4,
  "nbformat_minor": 0
}